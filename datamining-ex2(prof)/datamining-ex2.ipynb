{
 "cells": [
  {
   "cell_type": "code",
   "execution_count": 19,
   "id": "fe5d24bc-e142-40f4-9351-b154146f3cf8",
   "metadata": {},
   "outputs": [
    {
     "name": "stdout",
     "output_type": "stream",
     "text": [
      "      index  Blues Traveler  Broken Bells  Norah Jones  Phoenix  \\\n",
      "0  Angelica            3.50           2.0          4.5      5.0   \n",
      "1      Bill            1.50           3.5          NaN      2.0   \n",
      "2      Chan            5.00           1.0          3.0      5.0   \n",
      "3       Dan            3.00           4.0          NaN      3.0   \n",
      "4    Hailey             NaN           4.0          4.0      NaN   \n",
      "5    Jordyn             NaN           4.5          5.0      5.0   \n",
      "6  Veronica            3.00           NaN          5.0      4.0   \n",
      "7    Robert            4.00           NaN          3.0      5.0   \n",
      "8     Clara            4.75           NaN          4.5      5.0   \n",
      "\n",
      "   Slightly Stoopid  The Strokes  Vampire Weekend  Deadmau5  \n",
      "0               1.5         2.50              2.0       NaN  \n",
      "1               3.5          NaN              3.0       4.0  \n",
      "2               1.0          NaN              NaN       1.0  \n",
      "3               4.5         4.00              2.0       4.5  \n",
      "4               NaN         5.00              1.0       1.0  \n",
      "5               4.5         4.00              4.0       4.0  \n",
      "6               2.5         3.00              NaN       NaN  \n",
      "7               1.0         2.00              NaN       NaN  \n",
      "8               4.0         4.25              NaN       NaN  \n"
     ]
    }
   ],
   "source": [
    "import numpy as np\n",
    "import matplotlib.pyplot as plt\n",
    "import pandas as pd\n",
    "\n",
    "users = {\n",
    "    \"Angelica\": {\"Blues Traveler\": 3.5, \"Broken Bells\": 2.0, \"Norah Jones\": 4.5, \"Phoenix\": 5.0, \"Slightly Stoopid\": 1.5, \"The Strokes\": 2.5, \"Vampire Weekend\": 2.0},\n",
    "    \"Bill\": {\"Blues Traveler\": 1.5, \"Broken Bells\": 3.5, \"Deadmau5\": 4.0, \"Phoenix\": 2.0, \"Slightly Stoopid\": 3.5, \"Vampire Weekend\": 3.0},\n",
    "    \"Chan\": {\"Blues Traveler\": 5.0, \"Broken Bells\": 1.0, \"Deadmau5\": 1.0, \"Norah Jones\": 3.0, \"Phoenix\": 5, \"Slightly Stoopid\": 1.0},\n",
    "    \"Dan\": {\"Blues Traveler\": 3.0, \"Broken Bells\": 4.0, \"Deadmau5\": 4.5, \"Phoenix\": 3.0, \"Slightly Stoopid\": 4.5, \"The Strokes\": 4.0, \"Vampire Weekend\": 2.0},\n",
    "    \"Hailey\": {\"Broken Bells\": 4.0, \"Deadmau5\": 1.0, \"Norah Jones\": 4.0, \"The Strokes\": 5.0, \"Vampire Weekend\": 1.0},\n",
    "    \"Jordyn\": {\"Broken Bells\": 4.5, \"Deadmau5\": 4.0, \"Norah Jones\": 5.0, \"Phoenix\": 5.0, \"Slightly Stoopid\": 4.5, \"The Strokes\": 4.0, \"Vampire Weekend\": 4.0},\n",
    "    # \"Sam\": {\"Blues Traveler\": 5.0, \"Broken Bells\": 2.0, \"Norah Jones\": 3.0, \"Phoenix\": 5.0, \"Slightly Stoopid\": 4.0, \"The Strokes\": 5.0},\n",
    "    \"Veronica\": {\"Blues Traveler\": 3.0, \"Norah Jones\": 5.0, \"Phoenix\": 4.0, \"Slightly Stoopid\": 2.5, \"The Strokes\": 3.0},\n",
    "    \"Robert\": {\"Blues Traveler\": 4.0, \"Norah Jones\": 3.0, \"Phoenix\": 5.0, \"Slightly Stoopid\": 1.0, \"The Strokes\": 2.0},\n",
    "    \"Clara\": {\"Blues Traveler\": 4.75, \"Norah Jones\": 4.5, \"Phoenix\": 5.0, \"Slightly Stoopid\": 4.0, \"The Strokes\": 4.25}\n",
    "}\n",
    "\n",
    "df_users = pd.DataFrame(users).T\n",
    "df_users = df_users.reset_index()\n",
    "print(df_users)"
   ]
  },
  {
   "cell_type": "code",
   "execution_count": 20,
   "id": "e6a50665-c6df-415b-815d-fd345f7ee3fb",
   "metadata": {},
   "outputs": [],
   "source": [
    "def pearson_correlation(user1, user2):\n",
    "    common_items = set(user1.keys()) & set(user2.keys())\n",
    "    # print(common_items)\n",
    "    if not common_items:\n",
    "        return 0\n",
    "    ratings1 = np.array([user1[item] for item in common_items])\n",
    "    ratings2 = np.array([user2[item] for item in common_items])\n",
    "\n",
    "    if np.std(ratings1) == 0 or np.std(ratings2) == 0:\n",
    "        return 0\n",
    "\n",
    "    # print(ratings1,ratings2)\n",
    "    return float(np.corrcoef(ratings1, ratings2)[0, 1])"
   ]
  },
  {
   "cell_type": "code",
   "execution_count": 21,
   "id": "881a4e39-a94d-4366-b239-f95dc1ab9bf3",
   "metadata": {},
   "outputs": [
    {
     "name": "stdout",
     "output_type": "stream",
     "text": [
      "Broken Bells       4.0\n",
      "Norah Jones        4.0\n",
      "The Strokes        5.0\n",
      "Vampire Weekend    1.0\n",
      "Deadmau5           1.0\n",
      "dtype: float64\n",
      "{'Angelica': 0.3233808333817773, 'Bill': 0.0, 'Chan': 0.5, 'Dan': 0.3828319723362606, 'Hailey': 1.0, 'Jordyn': 0.44821072850039767, 'Veronica': -0.9999999999999999, 'Robert': -0.9999999999999999, 'Clara': -0.9999999999999999}\n",
      "['Chan', 'Jordyn', 'Dan', 'Angelica', 'Bill', 'Veronica', 'Robert', 'Clara']\n"
     ]
    },
    {
     "data": {
      "text/plain": [
       "'Chan'"
      ]
     },
     "execution_count": 21,
     "metadata": {},
     "output_type": "execute_result"
    }
   ],
   "source": [
    "Hailey = df_users[df_users['index'] =='Hailey'].dropna(axis=1)\n",
    "hailey_dict = {}\n",
    "for i in Hailey:\n",
    "    if i!='index':\n",
    "        hailey_dict[i] = Hailey.loc[4,i]\n",
    "Hailey = pd.Series(hailey_dict)\n",
    "print(Hailey)\n",
    "correlation_with_hailey = {}\n",
    "for i in range(df_users.shape[0]):\n",
    "    user_i = df_users.iloc[i].dropna()\n",
    "    user_i_name = user_i['index']\n",
    "    # print(user_i_name,end='->')\n",
    "    user_i_data = user_i[1:]\n",
    "    pcr = pearson_correlation(Hailey,user_i_data)\n",
    "    correlation_with_hailey[user_i_name] = pcr\n",
    "print(correlation_with_hailey)\n",
    "sorted_correlation_with_hailey = sorted(correlation_with_hailey,key=lambda x : correlation_with_hailey[x],reverse=True)[1:]\n",
    "print(sorted_correlation_with_hailey)\n",
    "nearest_to_hailey = sorted_correlation_with_hailey[0]\n",
    "nearest_to_hailey"
   ]
  },
  {
   "cell_type": "code",
   "execution_count": 25,
   "id": "5d608e52-300f-447d-9371-1dfe1764e514",
   "metadata": {},
   "outputs": [
    {
     "name": "stdout",
     "output_type": "stream",
     "text": [
      "2\n",
      "Blues Traveler      5.0\n",
      "Broken Bells        1.0\n",
      "Norah Jones         3.0\n",
      "Phoenix             5.0\n",
      "Slightly Stoopid    1.0\n",
      "Deadmau5            1.0\n",
      "dtype: float64\n",
      "{'Blues Traveler', 'Phoenix', 'Slightly Stoopid'}\n"
     ]
    }
   ],
   "source": [
    "nearest_to_hailey_ = df_users[df_users['index'] == nearest_to_hailey].dropna(axis=1)\n",
    "ind = nearest_to_hailey_.index.to_list()[0]\n",
    "print(ind)\n",
    "nearest_to_hailey_dict = {}\n",
    "for i in nearest_to_hailey_:\n",
    "    if i!='index':\n",
    "        nearest_to_hailey_dict[i] = nearest_to_hailey_.loc[ind,i]\n",
    "nearest_to_hailey_ = pd.Series(nearest_to_hailey_dict)\n",
    "print(nearest_to_hailey_)\n",
    "hailey_did_not_answer_but_nearest_did = set(nearest_to_hailey_.keys()) - set(Hailey.keys())\n",
    "print(hailey_did_not_answer_but_nearest_did)"
   ]
  },
  {
   "cell_type": "code",
   "execution_count": 26,
   "id": "c7d9b04f-e344-4062-9822-761474026349",
   "metadata": {},
   "outputs": [
    {
     "name": "stdout",
     "output_type": "stream",
     "text": [
      "hailey may like \"Blues Traveler\" band too.\n"
     ]
    }
   ],
   "source": [
    "final_movies = nearest_to_hailey_[list(hailey_did_not_answer_but_nearest_did)]\n",
    "index = int(np.argmax(final_movies))\n",
    "ans = final_movies.reset_index()['index'][index]\n",
    "print(f'hailey may like \"{ ans }\" band too.')"
   ]
  }
 ],
 "metadata": {
  "kernelspec": {
   "display_name": "Python 3 (ipykernel)",
   "language": "python",
   "name": "python3"
  },
  "language_info": {
   "codemirror_mode": {
    "name": "ipython",
    "version": 3
   },
   "file_extension": ".py",
   "mimetype": "text/x-python",
   "name": "python",
   "nbconvert_exporter": "python",
   "pygments_lexer": "ipython3",
   "version": "3.11.4"
  }
 },
 "nbformat": 4,
 "nbformat_minor": 5
}
